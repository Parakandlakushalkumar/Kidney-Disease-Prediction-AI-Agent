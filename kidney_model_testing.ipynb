{
  "nbformat": 4,
  "nbformat_minor": 0,
  "metadata": {
    "colab": {
      "provenance": [],
      "toc_visible": true
    },
    "kernelspec": {
      "name": "python3",
      "display_name": "Python 3"
    },
    "language_info": {
      "name": "python"
    }
  },
  "cells": [
    {
      "cell_type": "code",
      "execution_count": 7,
      "metadata": {
        "id": "wfb1LAXMuMnr",
        "colab": {
          "base_uri": "https://localhost:8080/"
        },
        "outputId": "a6493e86-8159-4ed2-bf90-d21f1c54ad1f"
      },
      "outputs": [
        {
          "output_type": "stream",
          "name": "stderr",
          "text": [
            "WARNING:absl:Compiled the loaded model, but the compiled metrics have yet to be built. `model.compile_metrics` will be empty until you train or evaluate the model.\n"
          ]
        },
        {
          "output_type": "stream",
          "name": "stdout",
          "text": [
            "Enter value for age: 25\n",
            "Enter value for bp: 120\n",
            "Enter value for sg: 22\n",
            "Enter value for al: 22\n",
            "Enter value for su: 22\n",
            "Enter value for rbc: 22\n",
            "Enter value for pc: 22\n",
            "Enter value for pcc: 22\n",
            "Enter value for ba: 22\n",
            "Enter value for bgr: 22\n",
            "Enter value for bu: 22\n",
            "Enter value for sc: 22\n",
            "Enter value for sod: 22\n",
            "Enter value for pot: 22\n",
            "Enter value for hemo: 22\n",
            "Enter value for pcv: 22\n",
            "Enter value for wc: 22\n",
            "Enter value for rc: 22\n",
            "Enter value for htn: 22\n",
            "Enter value for dm: 22\n",
            "Enter value for cad: 22\n",
            "Enter value for appet: 22\n",
            "Enter value for pe: 22\n",
            "Enter value for ane: 22\n",
            "\u001b[1m1/1\u001b[0m \u001b[32m━━━━━━━━━━━━━━━━━━━━\u001b[0m\u001b[37m\u001b[0m \u001b[1m0s\u001b[0m 88ms/step\n",
            "✅ Kidney Disease Detected\n"
          ]
        }
      ],
      "source": [
        "from keras.models import load_model\n",
        "import numpy as np\n",
        "\n",
        "# Load trained model\n",
        "model = load_model('/content/kidney.h5')\n",
        "\n",
        "# Define the list of input feature names (excluding 'id' and 'classification')\n",
        "feature_names = [\n",
        "    \"age\", \"bp\", \"sg\", \"al\", \"su\", \"rbc\", \"pc\", \"pcc\", \"ba\", \"bgr\",\n",
        "    \"bu\", \"sc\", \"sod\", \"pot\", \"hemo\", \"pcv\", \"wc\", \"rc\",\n",
        "    \"htn\", \"dm\", \"cad\", \"appet\", \"pe\", \"ane\"\n",
        "]\n",
        "\n",
        "# Initialize input list\n",
        "input_data = []\n",
        "\n",
        "# Mapping for binary/categorical input options\n",
        "binary_mapping = {\"yes\": 1, \"no\": 0, \"normal\": 0, \"abnormal\": 1, \"present\": 1, \"notpresent\": 0, \"good\": 1, \"poor\": 0}\n",
        "\n",
        "# Collect input from the user\n",
        "for feature in feature_names:\n",
        "    value = input(f\"Enter value for {feature}: \").strip().lower()\n",
        "\n",
        "    # Try to convert to float, else map categorical to number\n",
        "    try:\n",
        "        input_data.append(float(value))\n",
        "    except:\n",
        "        if value in binary_mapping:\n",
        "            input_data.append(binary_mapping[value])\n",
        "        else:\n",
        "            print(f\"❌ Invalid input for '{feature}'. Expected number or one of: {', '.join(binary_mapping.keys())}\")\n",
        "            exit()\n",
        "\n",
        "# Ensure we have 24 inputs (model expects 25 features; assume 'id' was used in training)\n",
        "if len(input_data) == 24:\n",
        "    input_data.insert(0, 0.0)  # Add a dummy ID if required by the model (optional)\n",
        "\n",
        "# Convert to numpy array and reshape\n",
        "input_array = np.array(input_data).reshape(1, -1)\n",
        "\n",
        "# Predict\n",
        "result = model.predict(input_array)\n",
        "\n",
        "# Output\n",
        "if result > 0.5:\n",
        "    print(\"✅ Kidney Disease Detected\")\n",
        "else:\n",
        "    print(\"✅ No Kidney Disease\")\n"
      ]
    }
  ]
}